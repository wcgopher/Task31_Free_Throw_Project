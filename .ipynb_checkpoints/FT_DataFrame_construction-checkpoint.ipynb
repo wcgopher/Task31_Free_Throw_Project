{
 "cells": [
  {
   "cell_type": "code",
   "execution_count": 4,
   "metadata": {
    "collapsed": true
   },
   "outputs": [],
   "source": [
    "import pandas as pd"
   ]
  },
  {
   "cell_type": "code",
   "execution_count": 11,
   "metadata": {
    "collapsed": true
   },
   "outputs": [],
   "source": [
    "_76ers = pd.read_csv('/Users/willhall/Desktop/2016-17_FTs/2016-17_76ers_FTs.csv')\n",
    "Bucks = pd.read_csv('/Users/willhall/Desktop/2016-17_FTs/2016-17_Bucks_FTs.csv')\n",
    "Bulls = pd.read_csv('/Users/willhall/Desktop/2016-17_FTs/2016-17_Bulls_FTs.csv')\n",
    "Cavs = pd.read_csv('/Users/willhall/Desktop/2016-17_FTs/2016-17_Cavaliers_FTs.csv')\n",
    "Celtics = pd.read_csv('/Users/willhall/Desktop/2016-17_FTs/2016-17_Celtics_FTs.csv')\n",
    "Clippers = pd.read_csv('/Users/willhall/Desktop/2016-17_FTs/2016-17_Clippers_FTs.csv')\n",
    "Grizzlies = pd.read_csv('/Users/willhall/Desktop/2016-17_FTs/2016-17_Grizzlies_FTs.csv')\n",
    "Hawks = pd.read_csv('/Users/willhall/Desktop/2016-17_FTs/2016-17_Hawks_FTs.csv')\n",
    "Heat = pd.read_csv('/Users/willhall/Desktop/2016-17_FTs/2016-17_Heat_FTs.csv')\n",
    "Hornets = pd.read_csv('/Users/willhall/Desktop/2016-17_FTs/2016-17_Hornets_FTs.csv')\n",
    "Jazz = pd.read_csv('/Users/willhall/Desktop/2016-17_FTs/2016-17_Jazz_FTs.csv')\n",
    "Kings = pd.read_csv('/Users/willhall/Desktop/2016-17_FTs/2016-17_Kings_FTs.csv')\n",
    "Knicks = pd.read_csv('/Users/willhall/Desktop/2016-17_FTs/2016-17_Knicks_FTs.csv')\n",
    "Lakers = pd.read_csv('/Users/willhall/Desktop/2016-17_FTs/2016-17_Lakers_FTs.csv')\n",
    "Magic = pd.read_csv('/Users/willhall/Desktop/2016-17_FTs/2016-17_Magic_FTs.csv')\n",
    "Mavericks = pd.read_csv('/Users/willhall/Desktop/2016-17_FTs/2016-17_Mavericks_FTs.csv')\n",
    "Nets = pd.read_csv('/Users/willhall/Desktop/2016-17_FTs/2016-17_Nets_FTs.csv')\n",
    "Nuggets = pd.read_csv('/Users/willhall/Desktop/2016-17_FTs/2016-17_Nuggets_FTs.csv')\n",
    "Pacers = pd.read_csv('/Users/willhall/Desktop/2016-17_FTs/2016-17_Pacers_FTs.csv')\n",
    "Pelicans = pd.read_csv('/Users/willhall/Desktop/2016-17_FTs/2016-17_Pelicans_FTs.csv')\n",
    "Pistons = pd.read_csv('/Users/willhall/Desktop/2016-17_FTs/2016-17_Pistons_FTs.csv')\n",
    "Raptors = pd.read_csv('/Users/willhall/Desktop/2016-17_FTs/2016-17_Raptors_FTs.csv')\n",
    "Rockets = pd.read_csv('/Users/willhall/Desktop/2016-17_FTs/2016-17_Rockets_FTs.csv')\n",
    "Spurs = pd.read_csv('/Users/willhall/Desktop/2016-17_FTs/2016-17_Spurs_FTs.csv')\n",
    "Suns = pd.read_csv('/Users/willhall/Desktop/2016-17_FTs/2016-17_Suns_FTs.csv')\n",
    "Thunder = pd.read_csv('/Users/willhall/Desktop/2016-17_FTs/2016-17_Thunder_FTs.csv')\n",
    "Timberwolves = pd.read_csv('/Users/willhall/Desktop/2016-17_FTs/2016-17_Timberwolves_FTs.csv')\n",
    "TrailBlazers = pd.read_csv('/Users/willhall/Desktop/2016-17_FTs/2016-17_TrailBlazers_FTs.csv')\n",
    "Warriors = pd.read_csv('/Users/willhall/Desktop/2016-17_FTs/2016-17_Warriors_FTs.csv')\n",
    "Wizards = pd.read_csv('/Users/willhall/Desktop/2016-17_FTs/2016-17_Wizards_FTs.csv')\n"
   ]
  },
  {
   "cell_type": "code",
   "execution_count": 12,
   "metadata": {
    "collapsed": true
   },
   "outputs": [],
   "source": [
    "League = [_76ers,Bucks,Bulls,Cavs,Celtics,Clippers,Grizzlies,Hawks,Heat,Hornets,Jazz,Kings,Knicks,Lakers,Magic,Mavericks,Nets,Nuggets,Pacers,Pelicans,Pistons,Raptors,Rockets,Spurs,Suns,Thunder,Timberwolves,TrailBlazers,Warriors,Wizards]"
   ]
  },
  {
   "cell_type": "code",
   "execution_count": 13,
   "metadata": {
    "collapsed": true
   },
   "outputs": [],
   "source": [
    "df = pd.concat(League)"
   ]
  },
  {
   "cell_type": "code",
   "execution_count": 14,
   "metadata": {},
   "outputs": [
    {
     "data": {
      "text/plain": [
       "1106    30\n",
       "783     30\n",
       "431     30\n",
       "463     30\n",
       "495     30\n",
       "527     30\n",
       "559     30\n",
       "591     30\n",
       "623     30\n",
       "655     30\n",
       "687     30\n",
       "719     30\n",
       "751     30\n",
       "815     30\n",
       "1231    30\n",
       "847     30\n",
       "879     30\n",
       "911     30\n",
       "943     30\n",
       "975     30\n",
       "1007    30\n",
       "1039    30\n",
       "1071    30\n",
       "1103    30\n",
       "1135    30\n",
       "1167    30\n",
       "399     30\n",
       "323     30\n",
       "367     30\n",
       "355     30\n",
       "        ..\n",
       "2423     1\n",
       "2455     1\n",
       "2390     1\n",
       "2439     1\n",
       "2389     1\n",
       "2450     1\n",
       "2418     1\n",
       "2386     1\n",
       "2397     1\n",
       "2434     1\n",
       "2414     1\n",
       "2402     1\n",
       "2446     1\n",
       "2422     1\n",
       "2458     1\n",
       "2426     1\n",
       "2394     1\n",
       "2417     1\n",
       "2449     1\n",
       "2416     1\n",
       "2448     1\n",
       "2438     1\n",
       "2459     1\n",
       "2427     1\n",
       "2395     1\n",
       "2387     1\n",
       "2419     1\n",
       "2451     1\n",
       "2406     1\n",
       "2440     1\n",
       "Name: Rk, Length: 2461, dtype: int64"
      ]
     },
     "execution_count": 14,
     "metadata": {},
     "output_type": "execute_result"
    }
   ],
   "source": [
    "df.Rk.value_counts()"
   ]
  },
  {
   "cell_type": "code",
   "execution_count": 17,
   "metadata": {
    "collapsed": true
   },
   "outputs": [],
   "source": [
    "df.rename(columns={'Unnamed: 3':'home_away',},inplace=True)"
   ]
  },
  {
   "cell_type": "code",
   "execution_count": 18,
   "metadata": {
    "collapsed": true
   },
   "outputs": [],
   "source": [
    "df.home_away.fillna(value='Home',inplace=True)"
   ]
  },
  {
   "cell_type": "code",
   "execution_count": 19,
   "metadata": {
    "collapsed": true
   },
   "outputs": [],
   "source": [
    "df.home_away.replace(to_replace='@',value='Away',inplace=True)"
   ]
  },
  {
   "cell_type": "code",
   "execution_count": 20,
   "metadata": {},
   "outputs": [
    {
     "name": "stdout",
     "output_type": "stream",
     "text": [
      "<class 'pandas.core.frame.DataFrame'>\n",
      "Int64Index: 60620 entries, 0 to 2131\n",
      "Data columns (total 10 columns):\n",
      "Rk                60620 non-null int64\n",
      "Date              60620 non-null object\n",
      "Tm                60620 non-null object\n",
      "home_away         60620 non-null object\n",
      "Opp               60620 non-null object\n",
      "Qtr               60620 non-null object\n",
      "Time              60620 non-null object\n",
      "Score (Before)    60620 non-null object\n",
      "Description       60620 non-null object\n",
      "Score (After)     60620 non-null object\n",
      "dtypes: int64(1), object(9)\n",
      "memory usage: 5.1+ MB\n"
     ]
    }
   ],
   "source": [
    "df.info()"
   ]
  },
  {
   "cell_type": "markdown",
   "metadata": {
    "collapsed": true
   },
   "source": [
    "## The next step is only if we want to save the df into a csv so we can use it everytime without going through all the steps again"
   ]
  },
  {
   "cell_type": "code",
   "execution_count": 1,
   "metadata": {},
   "outputs": [
    {
     "ename": "NameError",
     "evalue": "name 'df' is not defined",
     "output_type": "error",
     "traceback": [
      "\u001b[0;31m---------------------------------------------------------------------------\u001b[0m",
      "\u001b[0;31mNameError\u001b[0m                                 Traceback (most recent call last)",
      "\u001b[0;32m<ipython-input-1-21599239c43e>\u001b[0m in \u001b[0;36m<module>\u001b[0;34m()\u001b[0m\n\u001b[0;32m----> 1\u001b[0;31m \u001b[0mdf\u001b[0m\u001b[0;34m.\u001b[0m\u001b[0mto_csv\u001b[0m\u001b[0;34m(\u001b[0m\u001b[0mpath_or_buf\u001b[0m\u001b[0;34m=\u001b[0m\u001b[0;34m'/Users/eran/Galvanize/Task31_Free_Throw_Project/2016-17_FTs/Raw_df.csv'\u001b[0m\u001b[0;34m,\u001b[0m\u001b[0mindex\u001b[0m\u001b[0;34m=\u001b[0m\u001b[0;32mFalse\u001b[0m\u001b[0;34m)\u001b[0m\u001b[0;34m\u001b[0m\u001b[0m\n\u001b[0m\u001b[1;32m      2\u001b[0m \u001b[0;31m## Saving the df into a csv file, so won't have to converge all the csv files again everytime we run\u001b[0m\u001b[0;34m\u001b[0m\u001b[0;34m\u001b[0m\u001b[0m\n\u001b[1;32m      3\u001b[0m \u001b[0;31m## this notebook. just insert your personal path e.g.:\u001b[0m\u001b[0;34m\u001b[0m\u001b[0;34m\u001b[0m\u001b[0m\n\u001b[1;32m      4\u001b[0m \u001b[0;31m## '/Users/willhall/Desktop/2016-17_FTs/Raw_df.csv'\u001b[0m\u001b[0;34m\u001b[0m\u001b[0;34m\u001b[0m\u001b[0m\n\u001b[1;32m      5\u001b[0m \u001b[0mdf\u001b[0m\u001b[0;34m=\u001b[0m\u001b[0mpd\u001b[0m\u001b[0;34m.\u001b[0m\u001b[0mread_csv\u001b[0m\u001b[0;34m(\u001b[0m\u001b[0;34m'/Users/eran/Galvanize/Task31_Free_Throw_Project/2016-17_FTs/Raw_df.csv'\u001b[0m\u001b[0;34m)\u001b[0m \u001b[0;31m## downloading\u001b[0m\u001b[0;34m\u001b[0m\u001b[0m\n",
      "\u001b[0;31mNameError\u001b[0m: name 'df' is not defined"
     ]
    }
   ],
   "source": [
    "df.to_csv(path_or_buf='/Users/eran/Galvanize_more_repositories/Task31_Free_Throw_Project/2016-17_FTs/Raw_df.csv',index=False) \n",
    "## Saving the df into a csv file, so won't have to converge all the csv files again everytime we run \n",
    "## this notebook. just insert your personal path e.g.:\n",
    "## '/Users/willhall/Desktop/2016-17_FTs/Raw_df.csv'"
   ]
  },
  {
   "cell_type": "code",
   "execution_count": 5,
   "metadata": {},
   "outputs": [],
   "source": [
    "df=pd.read_csv('/Users/eran/Galvanize_more_repositories/Task31_Free_Throw_Project/2016-17_FTs/Raw_df.csv') ## downloading \n",
    "## the df back to the notebook"
   ]
  },
  {
   "cell_type": "code",
   "execution_count": 6,
   "metadata": {},
   "outputs": [
    {
     "data": {
      "text/html": [
       "<div>\n",
       "<style>\n",
       "    .dataframe thead tr:only-child th {\n",
       "        text-align: right;\n",
       "    }\n",
       "\n",
       "    .dataframe thead th {\n",
       "        text-align: left;\n",
       "    }\n",
       "\n",
       "    .dataframe tbody tr th {\n",
       "        vertical-align: top;\n",
       "    }\n",
       "</style>\n",
       "<table border=\"1\" class=\"dataframe\">\n",
       "  <thead>\n",
       "    <tr style=\"text-align: right;\">\n",
       "      <th></th>\n",
       "      <th>Rk</th>\n",
       "      <th>Date</th>\n",
       "      <th>Tm</th>\n",
       "      <th>home_away</th>\n",
       "      <th>Opp</th>\n",
       "      <th>Qtr</th>\n",
       "      <th>Time</th>\n",
       "      <th>Score (Before)</th>\n",
       "      <th>Description</th>\n",
       "      <th>Score (After)</th>\n",
       "    </tr>\n",
       "  </thead>\n",
       "  <tbody>\n",
       "    <tr>\n",
       "      <th>0</th>\n",
       "      <td>1</td>\n",
       "      <td>10/26/16</td>\n",
       "      <td>PHI</td>\n",
       "      <td>Home</td>\n",
       "      <td>OKC</td>\n",
       "      <td>1st</td>\n",
       "      <td>09:10.0</td>\n",
       "      <td>PHI up 3 (5-2)</td>\n",
       "      <td>D. Saric makes free throw 1 of 2</td>\n",
       "      <td>PHI up 4 (6-2)</td>\n",
       "    </tr>\n",
       "    <tr>\n",
       "      <th>1</th>\n",
       "      <td>2</td>\n",
       "      <td>10/26/16</td>\n",
       "      <td>PHI</td>\n",
       "      <td>Home</td>\n",
       "      <td>OKC</td>\n",
       "      <td>1st</td>\n",
       "      <td>09:10.0</td>\n",
       "      <td>PHI up 4 (6-2)</td>\n",
       "      <td>D. Saric misses free throw 2 of 2</td>\n",
       "      <td>PHI up 4 (6-2)</td>\n",
       "    </tr>\n",
       "    <tr>\n",
       "      <th>2</th>\n",
       "      <td>3</td>\n",
       "      <td>10/26/16</td>\n",
       "      <td>PHI</td>\n",
       "      <td>Home</td>\n",
       "      <td>OKC</td>\n",
       "      <td>1st</td>\n",
       "      <td>03:28.0</td>\n",
       "      <td>PHI up 4 (18-14)</td>\n",
       "      <td>J. Grant misses free throw 1 of 2</td>\n",
       "      <td>PHI up 4 (18-14)</td>\n",
       "    </tr>\n",
       "    <tr>\n",
       "      <th>3</th>\n",
       "      <td>4</td>\n",
       "      <td>10/26/16</td>\n",
       "      <td>PHI</td>\n",
       "      <td>Home</td>\n",
       "      <td>OKC</td>\n",
       "      <td>1st</td>\n",
       "      <td>03:28.0</td>\n",
       "      <td>PHI up 4 (18-14)</td>\n",
       "      <td>J. Grant makes free throw 2 of 2</td>\n",
       "      <td>PHI up 5 (19-14)</td>\n",
       "    </tr>\n",
       "    <tr>\n",
       "      <th>4</th>\n",
       "      <td>5</td>\n",
       "      <td>10/26/16</td>\n",
       "      <td>PHI</td>\n",
       "      <td>Home</td>\n",
       "      <td>OKC</td>\n",
       "      <td>1st</td>\n",
       "      <td>02:04.0</td>\n",
       "      <td>PHI down 2 (19-21)</td>\n",
       "      <td>J. Grant makes free throw 1 of 2</td>\n",
       "      <td>PHI down 1 (20-21)</td>\n",
       "    </tr>\n",
       "  </tbody>\n",
       "</table>\n",
       "</div>"
      ],
      "text/plain": [
       "   Rk      Date   Tm home_away  Opp  Qtr     Time      Score (Before)  \\\n",
       "0   1  10/26/16  PHI      Home  OKC  1st  09:10.0      PHI up 3 (5-2)   \n",
       "1   2  10/26/16  PHI      Home  OKC  1st  09:10.0      PHI up 4 (6-2)   \n",
       "2   3  10/26/16  PHI      Home  OKC  1st  03:28.0    PHI up 4 (18-14)   \n",
       "3   4  10/26/16  PHI      Home  OKC  1st  03:28.0    PHI up 4 (18-14)   \n",
       "4   5  10/26/16  PHI      Home  OKC  1st  02:04.0  PHI down 2 (19-21)   \n",
       "\n",
       "                         Description       Score (After)  \n",
       "0   D. Saric makes free throw 1 of 2      PHI up 4 (6-2)  \n",
       "1  D. Saric misses free throw 2 of 2      PHI up 4 (6-2)  \n",
       "2  J. Grant misses free throw 1 of 2    PHI up 4 (18-14)  \n",
       "3   J. Grant makes free throw 2 of 2    PHI up 5 (19-14)  \n",
       "4   J. Grant makes free throw 1 of 2  PHI down 1 (20-21)  "
      ]
     },
     "execution_count": 6,
     "metadata": {},
     "output_type": "execute_result"
    }
   ],
   "source": [
    "df.head()"
   ]
  },
  {
   "cell_type": "code",
   "execution_count": null,
   "metadata": {
    "collapsed": true
   },
   "outputs": [],
   "source": []
  }
 ],
 "metadata": {
  "kernelspec": {
   "display_name": "Python 3",
   "language": "python",
   "name": "python3"
  },
  "language_info": {
   "codemirror_mode": {
    "name": "ipython",
    "version": 3
   },
   "file_extension": ".py",
   "mimetype": "text/x-python",
   "name": "python",
   "nbconvert_exporter": "python",
   "pygments_lexer": "ipython3",
   "version": "3.6.3"
  }
 },
 "nbformat": 4,
 "nbformat_minor": 2
}
